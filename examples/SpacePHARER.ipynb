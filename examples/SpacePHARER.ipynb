{
  "nbformat": 4,
  "nbformat_minor": 0,
  "metadata": {
    "colab": {
      "name": "SpacePHARER.ipynb",
      "provenance": [],
      "collapsed_sections": [],
      "include_colab_link": true
    },
    "kernelspec": {
      "display_name": "Python 3",
      "name": "python3"
    },
    "language_info": {
      "name": "python"
    }
  },
  "cells": [
    {
      "cell_type": "markdown",
      "metadata": {
        "id": "view-in-github",
        "colab_type": "text"
      },
      "source": [
        "<a href=\"https://colab.research.google.com/github/soedinglab/spacepharer/blob/master/examples/SpacePHARER.ipynb\" target=\"_parent\"><img src=\"https://colab.research.google.com/assets/colab-badge.svg\" alt=\"Open In Colab\"/></a>"
      ]
    },
    {
      "cell_type": "markdown",
      "metadata": {
        "id": "tpODUT424Iw5"
      },
      "source": [
        "# SpacePHARER: CRISPR Spacer Phage-Host pAiRs findER\n",
        "---\n",
        "\n",
        "<img src=\"https://raw.githubusercontent.com/soedinglab/spacepharer/master/.github/SpacePHARER.png\" height=\"192\" align=\"right\" style=\"height:192px\"/>\n",
        "\n",
        "SpacePHARER is a modular toolkit for sensitive phage-host interaction identification using CRISPR spacers. SpacePHARER adapts the fast homology search capabilities of [MMseqs2](https://github.com/soedinglab/MMseqs2) to sensitively query short spacer sequences. It introduces a novel approach of aggregating sets of spacer-based hits to discover phage-host matches.\n",
        "\n",
        "[Zhang, R., Mirdita, M., Levy Karin, E., Norroy, C., Galiez, C., & Söding, J.  SpacePHARER: Sensitive identification of phages from CRISPR spacers in prokaryotic hosts. Bioinformatics, doi:10.1093/bioinformatics/btab222 (2021).](https://doi.org/10.1093/bioinformatics/btab222)\n",
        "\n"
      ]
    },
    {
      "cell_type": "code",
      "metadata": {
        "id": "rA59mKzFQlKu",
        "cellView": "form"
      },
      "source": [
        "#@title Set parameters, hit `Runtime` -> `Run all`, wait for file input box to appear below this cell to upload either 1) all your spacer files or 2) your genome files\n",
        "jobname = 'test' #@param {type:\"string\"}\n",
        "#@markdown ---\n",
        "#@markdown Input options (input mode is ignored if example data is used)\n",
        "input_mode = \"CRISPR spacers\" #@param [\"CRISPR spacers\", \"Phage genomes\"]\n",
        "use_example_data = False #@param {type:\"boolean\"}\n",
        "#@markdown ---\n",
        "#@markdown Advanced options\n",
        "fdr_cutoff = 0.05 #@param {type:\"number\"}\n",
        "#@markdown ---\n",
        "#@markdown Don't forget to hit `Runtime` -> `Run all` after updating the form. An input box will appear below this text. Upload your spacers or genomes.\n",
        "\n",
        "jobname = \"\".join(jobname.split())\n",
        "\n",
        "input_type = 0\n",
        "if input_mode == \"CRISPR spacers\":\n",
        "  input_type = 1\n",
        "\n",
        "import os\n",
        "import shutil\n",
        "shutil.rmtree(jobname + \"_input\", ignore_errors=True)\n",
        "os.makedirs(jobname + \"_input\", exist_ok=True)\n",
        "\n",
        "if use_example_data:\n",
        "  input_type = 1\n",
        "  import urllib.request\n",
        "  urllib.request.urlretrieve(\"https://raw.githubusercontent.com/soedinglab/spacepharer/32ff17396bd5b91f4a68bbdede4f7806c6c6ad44/examples/JNGQ01000029.fas\", os.path.join(jobname + \"_input\", \"JNGQ01000029.fas\"))\n",
        "  urllib.request.urlretrieve(\"https://raw.githubusercontent.com/soedinglab/spacepharer/32ff17396bd5b91f4a68bbdede4f7806c6c6ad44/examples/CP003088.fas\", os.path.join(jobname + \"_input\", \"CP003088.fas\"))\n",
        "else:\n",
        "  from google.colab import files\n",
        "  uploaded = files.upload()\n",
        "  for fn in uploaded.keys():\n",
        "    os.replace(fn, os.path.join(jobname + \"_input\", fn))\n"
      ],
      "execution_count": null,
      "outputs": []
    },
    {
      "cell_type": "code",
      "metadata": {
        "id": "rlUrgJA9Px8G",
        "cellView": "form"
      },
      "source": [
        "#@title Download dependencies and databases\n",
        "%%bash -s $input_type\n",
        "INPUT_TYPE=$1\n",
        "if [ ! -e SPACEPHARER_READY ]; then\n",
        "  wget -q https://github.com/soedinglab/spacepharer/releases/download/5-c2e680a/spacepharer-linux-avx2.tar.gz\n",
        "  tar -xzf spacepharer-linux-avx2.tar.gz\n",
        "  rm -f spacepharer-linux-avx2.tar.gz\n",
        "  touch SPACEPHARER_READY\n",
        "fi\n",
        "\n",
        "if [ ! -e SPACEPHARER_DB_READY ] && [ \"${INPUT_TYPE}\" = \"1\" ]; then\n",
        "  mkdir -p database\n",
        "  spacepharer/bin/spacepharer downloaddb GenBank_phage_2018_09 database/gb1809 tmp -v 0 &> /dev/null\n",
        "  touch SPACEPHARER_DB_READY\n",
        "fi\n",
        "\n",
        "if [ ! -e SPACEPHARER_SPACERS_READY ] && [ \"${INPUT_TYPE}\" = \"0\" ]; then\n",
        "  mkdir -p database\n",
        "  spacepharer/bin/spacepharer downloaddb spacers_shmakov_et_al_2017 database/shmakov17 tmp -v 0 &> /dev/null\n",
        "  touch SPACEPHARER_SPACERS_READY\n",
        "fi"
      ],
      "execution_count": null,
      "outputs": []
    },
    {
      "cell_type": "code",
      "metadata": {
        "id": "QhUUbtePShi_",
        "cellView": "form"
      },
      "source": [
        "#@title Run SpacePHARER\n",
        "%%bash -s $jobname $fdr_cutoff $input_type\n",
        "JOBNAME=$1\n",
        "FDR=$2\n",
        "INPUT_TYPE=$3\n",
        "if [ \"$INPUT_TYPE\" = \"1\" ]; then\n",
        "  spacepharer/bin/spacepharer easy-predict \"${JOBNAME}_input/\"* database/gb1809 \"$JOBNAME\" tmp --fdr $FDR -v 0 &> /dev/null\n",
        "else\n",
        "  if [ ! -e \"database/${JOBNAME}_db.dbtype\" ]; then\n",
        "    spacepharer/bin/spacepharer createsetdb \"${JOBNAME}_input/\"* database/${JOBNAME}_db tmp -v 0 &> /dev/null\n",
        "    spacepharer/bin/spacepharer createsetdb \"${JOBNAME}_input/\"* database/${JOBNAME}_db_rev tmp --reverse-fragments 1 -v 0 &> /dev/null\n",
        "  fi\n",
        "  spacepharer/bin/spacepharer predictmatch database/shmakov17 database/${JOBNAME}_db database/${JOBNAME}_db_rev \"$JOBNAME\" tmp --fdr $FDR -v 0 &> /dev/null\n",
        "fi\n",
        "\n",
        "# compute taxonomy results\n",
        "if [ -e ${JOBNAME}_lca.tsv ]; then\n",
        "  cat ${JOBNAME}_lca.tsv | awk '{$1 = NR; print;}' > ${JOBNAME}_lca_tmp.tsv\n",
        "  spacepharer/bin/spacepharer tsv2db ${JOBNAME}_lca_tmp.tsv ${JOBNAME}_lca_tmp_db --output-dbtype 8 -v 0\n",
        "  spacepharer/bin/spacepharer taxonomyreport database/gb1809_nucl_orf ${JOBNAME}_lca_tmp_db ${JOBNAME}_lca.html --report-mode 1 -v 0\n",
        "  spacepharer/bin/spacepharer rmdb ${JOBNAME}_lca_tmp_db -v 0\n",
        "  rm -f -- ${JOBNAME}_lca_tmp.tsv\n",
        "fi\n",
        "if [ -e ${JOBNAME}_lca_per_target.tsv ]; then\n",
        "  cat ${JOBNAME}_lca_per_target.tsv | awk '{$1 = NR; print;}' > ${JOBNAME}_lca_tmp.tsv\n",
        "  spacepharer/bin/spacepharer tsv2db ${JOBNAME}_lca_tmp.tsv ${JOBNAME}_lca_tmp_db --output-dbtype 8 -v 0\n",
        "  spacepharer/bin/spacepharer taxonomyreport database/shmakov17_nucl_orf ${JOBNAME}_lca_tmp_db ${JOBNAME}_lca_per_target.html --report-mode 1 -v 0\n",
        "  spacepharer/bin/spacepharer rmdb ${JOBNAME}_lca_tmp_db -v 0\n",
        "  rm -f -- ${JOBNAME}_lca_tmp.tsv\n",
        "fi"
      ],
      "execution_count": null,
      "outputs": []
    },
    {
      "cell_type": "code",
      "metadata": {
        "id": "di_Y3WqIWFnW",
        "cellView": "form"
      },
      "source": [
        "#@title Show taxonomic distribution with Krona\n",
        "from IPython.display import HTML\n",
        "from IPython.core.display import display\n",
        "from pathlib import Path\n",
        "suffix = \"_lca.html\" if input_type == 1 else \"_lca_per_target.html\"\n",
        "html = '<script>onload()</script></html>'.join(Path(jobname + suffix).read_text().rsplit('</html>', 1))\n",
        "display(HTML(html))"
      ],
      "execution_count": null,
      "outputs": []
    },
    {
      "cell_type": "code",
      "metadata": {
        "id": "WrXiUX_J8Zhy",
        "cellView": "form"
      },
      "source": [
        "#@title Show spacer hits\n",
        "from pathlib import Path\n",
        "from IPython.display import HTML\n",
        "from IPython.core.display import display\n",
        "from pathlib import Path\n",
        "\n",
        "html = '''\n",
        "<style>\n",
        "tbody tr.head {\n",
        "  font-weight: bold;\n",
        "}\n",
        "</style>\n",
        "<table style='text-align:left'>\n",
        "  <thead>\n",
        "    <tr>\n",
        "      <th>Prokaryote</th>\n",
        "      <th>Phage</th>\n",
        "      <th>Comb. score</th>\n",
        "      <th colspan=\"5\">Count</th>\n",
        "    </tr>\n",
        "    <tr>\n",
        "      <th colspan='2'>Spacer</th>\n",
        "      <th>P-val</th>\n",
        "      <th>Spacer start</th>\n",
        "      <th>End</th>\n",
        "      <th>Phage start</th>\n",
        "      <th>End</th>\n",
        "      <th>5'_PAM|3'_PAM</th>\n",
        "      <th>PAM rev. strand</th>\n",
        "    </tr>\n",
        "  </thead>\n",
        "<tbody>\n",
        "'''\n",
        "\n",
        "for line in Path('test').read_text().split('\\n'):\n",
        "  if len(line) == 0:\n",
        "    continue\n",
        "  if line[0] == '#':\n",
        "    cols = line.split('\\t')\n",
        "    if len(cols) == 4:\n",
        "      html += \"<tr class='head'>\"\n",
        "      html += \"<td>\" + cols[0][1:] + \"</td>\"\n",
        "      if input_type == 1:\n",
        "        html += \"<td><a target='_blank' rel='noopener' href='https://www.ncbi.nlm.nih.gov/nuccore/\" + cols[1] + \"'>\" + cols[1] + \"</a></td>\"\n",
        "      else:\n",
        "        html += \"<td>\" + cols[1] + \"</td>\"\n",
        "      html += \"<td>\" + cols[2] + \"</td>\"\n",
        "      html += \"<td colspan='6'>\" + cols[3] + \"</td>\"\n",
        "      html += \"</tr>\\n\"\n",
        "  elif line[0] == '>':\n",
        "    cols = line.split('\\t')\n",
        "    if len(cols) == 9:\n",
        "      html += \"<tr>\"\n",
        "      html += \"<td colspan='2'>\" + cols[0][1:] + \"</td>\"\n",
        "      html += \"<td>\" + cols[2] + \"</td>\"\n",
        "      html += \"<td>\" + cols[3] + \"</td>\"\n",
        "      html += \"<td>\" + cols[4] + \"</td>\"\n",
        "      html += \"<td>\" + cols[5] + \"</td>\"\n",
        "      html += \"<td>\" + cols[6] + \"</td>\"\n",
        "      html += \"<td>\" + cols[7] + \"</td>\"\n",
        "      html += \"<td>\" + cols[8] + \"</td>\"\n",
        "    html += \"</tr>\\n\"\n",
        "html += '''\n",
        "</tbody>\n",
        "</table>\n",
        "'''\n",
        "display(HTML(html))\n"
      ],
      "execution_count": null,
      "outputs": []
    },
    {
      "cell_type": "code",
      "metadata": {
        "id": "TKDA465wbcJB",
        "cellView": "form"
      },
      "source": [
        "#@title Download result files as zip\n",
        "suffix = \"lca\" if input_type == 1 else \"lca_per_target\"\n",
        "!zip -FSr $jobname\".result.zip\" $jobname $jobname\"_\"$suffix\".tsv\" $jobname\"_\"$suffix\".html\"\n",
        "from google.colab import files\n",
        "files.download(f\"{jobname}.result.zip\")"
      ],
      "execution_count": null,
      "outputs": []
    }
  ]
}